{
 "cells": [
  {
   "cell_type": "code",
   "execution_count": 83,
   "id": "84edf25c",
   "metadata": {},
   "outputs": [],
   "source": [
    "import numpy as np"
   ]
  },
  {
   "cell_type": "code",
   "execution_count": 84,
   "id": "a7118885",
   "metadata": {},
   "outputs": [],
   "source": [
    "input1=np.array([[0,0],[0,1],[1,0],[1,1]])"
   ]
  },
  {
   "cell_type": "code",
   "execution_count": 85,
   "id": "c1e3ce5c",
   "metadata": {},
   "outputs": [],
   "source": [
    "weights = np.zeros(input1.shape[1])\n",
    "bias = 0"
   ]
  },
  {
   "cell_type": "code",
   "execution_count": 86,
   "id": "5fb87768",
   "metadata": {},
   "outputs": [
    {
     "data": {
      "text/plain": [
       "array([0., 0.])"
      ]
     },
     "execution_count": 86,
     "metadata": {},
     "output_type": "execute_result"
    }
   ],
   "source": [
    "weights"
   ]
  },
  {
   "cell_type": "code",
   "execution_count": 77,
   "id": "0c621e4a",
   "metadata": {},
   "outputs": [],
   "source": [
    "learning_rate = 0.01"
   ]
  },
  {
   "cell_type": "code",
   "execution_count": 78,
   "id": "13d4b214",
   "metadata": {},
   "outputs": [],
   "source": [
    "def step_function(x):\n",
    "    return np.where(x >= 0, 1, 0)"
   ]
  },
  {
   "cell_type": "code",
   "execution_count": 79,
   "id": "a412e71f",
   "metadata": {},
   "outputs": [
    {
     "name": "stdout",
     "output_type": "stream",
     "text": [
      "Input: [0 0] - Predicted: 1 - Actual: 0 - Error: -1\n",
      "Updated Weights: [0. 0.] - Updated Bias: -0.01\n",
      "\n",
      "Input: [0 1] - Predicted: 0 - Actual: 1 - Error: 1\n",
      "Updated Weights: [0.   0.01] - Updated Bias: 0.0\n",
      "\n",
      "Input: [1 0] - Predicted: 1 - Actual: 1 - Error: 0\n",
      "Updated Weights: [0.   0.01] - Updated Bias: 0.0\n",
      "\n",
      "Input: [1 1] - Predicted: 1 - Actual: 1 - Error: 0\n",
      "Updated Weights: [0.   0.01] - Updated Bias: 0.0\n",
      "\n",
      "Total Error after 0 epoch: 2\n",
      "Input: [0 0] - Predicted: 1 - Actual: 0 - Error: -1\n",
      "Updated Weights: [0.   0.01] - Updated Bias: -0.01\n",
      "\n",
      "Input: [0 1] - Predicted: 1 - Actual: 1 - Error: 0\n",
      "Updated Weights: [0.   0.01] - Updated Bias: -0.01\n",
      "\n",
      "Input: [1 0] - Predicted: 0 - Actual: 1 - Error: 1\n",
      "Updated Weights: [0.01 0.01] - Updated Bias: 0.0\n",
      "\n",
      "Input: [1 1] - Predicted: 1 - Actual: 1 - Error: 0\n",
      "Updated Weights: [0.01 0.01] - Updated Bias: 0.0\n",
      "\n",
      "Total Error after 1 epoch: 2\n",
      "Input: [0 0] - Predicted: 1 - Actual: 0 - Error: -1\n",
      "Updated Weights: [0.01 0.01] - Updated Bias: -0.01\n",
      "\n",
      "Input: [0 1] - Predicted: 1 - Actual: 1 - Error: 0\n",
      "Updated Weights: [0.01 0.01] - Updated Bias: -0.01\n",
      "\n",
      "Input: [1 0] - Predicted: 1 - Actual: 1 - Error: 0\n",
      "Updated Weights: [0.01 0.01] - Updated Bias: -0.01\n",
      "\n",
      "Input: [1 1] - Predicted: 1 - Actual: 1 - Error: 0\n",
      "Updated Weights: [0.01 0.01] - Updated Bias: -0.01\n",
      "\n",
      "Total Error after 2 epoch: 1\n",
      "Input: [0 0] - Predicted: 0 - Actual: 0 - Error: 0\n",
      "Updated Weights: [0.01 0.01] - Updated Bias: -0.01\n",
      "\n",
      "Input: [0 1] - Predicted: 1 - Actual: 1 - Error: 0\n",
      "Updated Weights: [0.01 0.01] - Updated Bias: -0.01\n",
      "\n",
      "Input: [1 0] - Predicted: 1 - Actual: 1 - Error: 0\n",
      "Updated Weights: [0.01 0.01] - Updated Bias: -0.01\n",
      "\n",
      "Input: [1 1] - Predicted: 1 - Actual: 1 - Error: 0\n",
      "Updated Weights: [0.01 0.01] - Updated Bias: -0.01\n",
      "\n",
      "Total Error after 3 epoch: 0\n",
      "Input: [0 0] - Predicted: 0 - Actual: 0 - Error: 0\n",
      "Updated Weights: [0.01 0.01] - Updated Bias: -0.01\n",
      "\n",
      "Input: [0 1] - Predicted: 1 - Actual: 1 - Error: 0\n",
      "Updated Weights: [0.01 0.01] - Updated Bias: -0.01\n",
      "\n",
      "Input: [1 0] - Predicted: 1 - Actual: 1 - Error: 0\n",
      "Updated Weights: [0.01 0.01] - Updated Bias: -0.01\n",
      "\n",
      "Input: [1 1] - Predicted: 1 - Actual: 1 - Error: 0\n",
      "Updated Weights: [0.01 0.01] - Updated Bias: -0.01\n",
      "\n",
      "Total Error after 4 epoch: 0\n",
      "Input: [0 0] - Predicted: 0 - Actual: 0 - Error: 0\n",
      "Updated Weights: [0.01 0.01] - Updated Bias: -0.01\n",
      "\n",
      "Input: [0 1] - Predicted: 1 - Actual: 1 - Error: 0\n",
      "Updated Weights: [0.01 0.01] - Updated Bias: -0.01\n",
      "\n",
      "Input: [1 0] - Predicted: 1 - Actual: 1 - Error: 0\n",
      "Updated Weights: [0.01 0.01] - Updated Bias: -0.01\n",
      "\n",
      "Input: [1 1] - Predicted: 1 - Actual: 1 - Error: 0\n",
      "Updated Weights: [0.01 0.01] - Updated Bias: -0.01\n",
      "\n",
      "Total Error after 5 epoch: 0\n",
      "Input: [0 0] - Predicted: 0 - Actual: 0 - Error: 0\n",
      "Updated Weights: [0.01 0.01] - Updated Bias: -0.01\n",
      "\n",
      "Input: [0 1] - Predicted: 1 - Actual: 1 - Error: 0\n",
      "Updated Weights: [0.01 0.01] - Updated Bias: -0.01\n",
      "\n",
      "Input: [1 0] - Predicted: 1 - Actual: 1 - Error: 0\n",
      "Updated Weights: [0.01 0.01] - Updated Bias: -0.01\n",
      "\n",
      "Input: [1 1] - Predicted: 1 - Actual: 1 - Error: 0\n",
      "Updated Weights: [0.01 0.01] - Updated Bias: -0.01\n",
      "\n",
      "Total Error after 6 epoch: 0\n",
      "Input: [0 0] - Predicted: 0 - Actual: 0 - Error: 0\n",
      "Updated Weights: [0.01 0.01] - Updated Bias: -0.01\n",
      "\n",
      "Input: [0 1] - Predicted: 1 - Actual: 1 - Error: 0\n",
      "Updated Weights: [0.01 0.01] - Updated Bias: -0.01\n",
      "\n",
      "Input: [1 0] - Predicted: 1 - Actual: 1 - Error: 0\n",
      "Updated Weights: [0.01 0.01] - Updated Bias: -0.01\n",
      "\n",
      "Input: [1 1] - Predicted: 1 - Actual: 1 - Error: 0\n",
      "Updated Weights: [0.01 0.01] - Updated Bias: -0.01\n",
      "\n",
      "Total Error after 7 epoch: 0\n",
      "Input: [0 0] - Predicted: 0 - Actual: 0 - Error: 0\n",
      "Updated Weights: [0.01 0.01] - Updated Bias: -0.01\n",
      "\n",
      "Input: [0 1] - Predicted: 1 - Actual: 1 - Error: 0\n",
      "Updated Weights: [0.01 0.01] - Updated Bias: -0.01\n",
      "\n",
      "Input: [1 0] - Predicted: 1 - Actual: 1 - Error: 0\n",
      "Updated Weights: [0.01 0.01] - Updated Bias: -0.01\n",
      "\n",
      "Input: [1 1] - Predicted: 1 - Actual: 1 - Error: 0\n",
      "Updated Weights: [0.01 0.01] - Updated Bias: -0.01\n",
      "\n",
      "Total Error after 8 epoch: 0\n",
      "Input: [0 0] - Predicted: 0 - Actual: 0 - Error: 0\n",
      "Updated Weights: [0.01 0.01] - Updated Bias: -0.01\n",
      "\n",
      "Input: [0 1] - Predicted: 1 - Actual: 1 - Error: 0\n",
      "Updated Weights: [0.01 0.01] - Updated Bias: -0.01\n",
      "\n",
      "Input: [1 0] - Predicted: 1 - Actual: 1 - Error: 0\n",
      "Updated Weights: [0.01 0.01] - Updated Bias: -0.01\n",
      "\n",
      "Input: [1 1] - Predicted: 1 - Actual: 1 - Error: 0\n",
      "Updated Weights: [0.01 0.01] - Updated Bias: -0.01\n",
      "\n",
      "Total Error after 9 epoch: 0\n"
     ]
    }
   ],
   "source": [
    "epochs = 10\n",
    "errors_per_epoch = []\n",
    "for epoch in range(epochs):\n",
    "    total_error = 0\n",
    "    for i in range(len(input1)):\n",
    "        linear_output = np.dot(input1[i], weights) + bias\n",
    "        predicted_output = step_function(linear_output)\n",
    "\n",
    "        error = z[i] - predicted_output\n",
    "\n",
    "        weights += learning_rate * error * input1[i]\n",
    "        bias += learning_rate * error\n",
    "\n",
    "        total_error += abs(error)\n",
    "\n",
    "        print(f\"Input: {input1[i]} - Predicted: {predicted_output} - Actual: {z[i]} - Error: {error}\")\n",
    "        print(f\"Updated Weights: {weights} - Updated Bias: {bias}\\n\")\n",
    "    \n",
    "    errors_per_epoch.append(total_error)\n",
    "\n",
    "    print(f\"Total Error after {epoch} epoch: {total_error}\")"
   ]
  },
  {
   "cell_type": "code",
   "execution_count": 80,
   "id": "74521852",
   "metadata": {},
   "outputs": [],
   "source": [
    "import matplotlib.pyplot as plt"
   ]
  },
  {
   "cell_type": "code",
   "execution_count": 81,
   "id": "105154a9",
   "metadata": {},
   "outputs": [
    {
     "data": {
      "image/png": "[encoded data removed]",
      "text/plain": [
       "<Figure size 640x480 with 1 Axes>"
      ]
     },
     "metadata": {},
     "output_type": "display_data"
    }
   ],
   "source": [
    "# Plotting the total error for each epoch\n",
    "plt.plot(range(1, epochs+1), errors_per_epoch, marker='o', linestyle='--', color='b')\n",
    "plt.title(\"Total Error per Epoch\")\n",
    "plt.xlabel(\"Epoch\")\n",
    "plt.ylabel(\"Total Error\")\n",
    "plt.grid(True)\n",
    "plt.show()"
   ]
  },
  {
   "cell_type": "code",
   "execution_count": null,
   "id": "9b5a8880",
   "metadata": {},
   "outputs": [],
   "source": []
  }
 ],
 "metadata": {
  "kernelspec": {
   "display_name": "Python 3 (ipykernel)",
   "language": "python",
   "name": "python3"
  },
  "language_info": {
   "codemirror_mode": {
    "name": "ipython",
    "version": 3
   },
   "file_extension": ".py",
   "mimetype": "text/x-python",
   "name": "python",
   "nbconvert_exporter": "python",
   "pygments_lexer": "ipython3",
   "version": "3.11.3"
  }
 },
 "nbformat": 4,
 "nbformat_minor": 5
}
